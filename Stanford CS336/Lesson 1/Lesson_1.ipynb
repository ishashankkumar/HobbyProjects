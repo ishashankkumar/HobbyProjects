{
 "cells": [
  {
   "metadata": {},
   "cell_type": "markdown",
   "source": "# Lesson 1",
   "id": "4b6693bf8e71060"
  },
  {
   "metadata": {},
   "cell_type": "markdown",
   "source": [
    "Today's frontier models\n",
    " - OpenAl's o3 https://openai.com/index/openai-o3-mini/\n",
    "-  Anthropic's Claude Sonnet 3.7 https://www.anthropic.com/news/claude-3-7-sonnet\n",
    "- XAl's Grok 3 https://x.ai/news/grok-3\n",
    "- Google's Gemini 2.5 https://blog.google/technology/google-deepmind/gemini-model-think\n",
    "march-2025/\n",
    "- Meta's Llama 3.3 https://ai.meta.com/blog/meta-llama-3/\n",
    "- DeepSeek's r1 [DeepSeek-Al+ 2025]\n",
    "- Alibaba's Qwen 2.5 Max https://qwenlm.github.io/blog/qwen2.5-max/\n",
    "- Tencent's Hunyuan-T1 https://tencent.github.io/llm.hunyuan.T1/README_EN.html"
   ],
   "id": "b6274204c9f72dc7"
  },
  {
   "metadata": {},
   "cell_type": "markdown",
   "source": [
    "### Design Decisions\n",
    "![image](1-design-decisions.png)"
   ],
   "id": "3f27fd414bee0c18"
  },
  {
   "metadata": {},
   "cell_type": "markdown",
   "source": [
    "### Basic Goal\n",
    "- Take basic version of full pipeline working.\n",
    "- Components: Tokenization, Model Architecture, Training\n",
    "\n",
    "#### Tokenization\n",
    "- Tokenizers converts strings to sequences of integers(tokens)\n"
   ],
   "id": "53eacbeeb556b297"
  }
 ],
 "metadata": {},
 "nbformat": 4,
 "nbformat_minor": 5
}
